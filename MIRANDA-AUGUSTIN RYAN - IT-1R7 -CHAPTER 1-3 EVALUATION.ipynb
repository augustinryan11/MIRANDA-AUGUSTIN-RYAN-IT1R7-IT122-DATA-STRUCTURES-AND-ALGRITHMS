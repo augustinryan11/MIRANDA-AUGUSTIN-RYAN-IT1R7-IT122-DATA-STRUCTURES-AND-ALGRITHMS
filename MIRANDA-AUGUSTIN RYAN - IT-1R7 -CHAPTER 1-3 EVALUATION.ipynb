{
 "cells": [
  {
   "cell_type": "code",
   "execution_count": 2,
   "id": "approximate-mechanics",
   "metadata": {},
   "outputs": [
    {
     "name": "stdout",
     "output_type": "stream",
     "text": [
      "Discuss your learnings on Chapter 1 time-frame 8:00 - 30:35. Minimum of 200 characters\n",
      "\n",
      "Chapter 1 learnings are the following\n",
      "\n",
      "In this chapter, I’ve learned so many things in algorithms and also in data structure. I see and heard in the video that algorithms are a sequence of computational steps that transform the input into the output but before you can get an output of your problem that you need a make a step-by-step process.\n",
      "Also in data structure it way to store an important file in computer to facilitate access and modification in a organize way. Data structure has two foundations first is Interface that set of operation and provides listed supported operations and second is implementation that provides the internal representation and also provides the definition of algorithms.\n",
      "\n",
      "Correctness, Time, Space is the three important characteristics it helps you to be more efficient storing data and also you create program that will run fatly. Data structure and Algorithms has the same application the search, sort, insert, update, delete. We all know that search is to search item in data structure also inn sort is to sort items in data structure, update is to update item in data structure, insert is to insert item data structure and delete is to delete existing item in data structure.\n",
      "In this lesson you can find ways to accomplish task and it can develop your critical thinking, create learning about programs that you can adapt in daily living.\n"
     ]
    }
   ],
   "source": [
    "print (\"Discuss your learnings on Chapter 1 time-frame 8:00 - 30:35. Minimum of 200 characters\")\n",
    "print (\"\")\n",
    "print (\"Chapter 1 learnings are the following\")\n",
    "print (\"\")\n",
    "print (\"In this chapter, I’ve learned so many things in algorithms and also in data structure. I see and heard in the video that algorithms are a sequence of computational steps that transform the input into the output but before you can get an output of your problem that you need a make a step-by-step process.\")\n",
    "print (\"Also in data structure it way to store an important file in computer to facilitate access and modification in a organize way. Data structure has two foundations first is Interface that set of operation and provides listed supported operations and second is implementation that provides the internal representation and also provides the definition of algorithms.\")\n",
    "print (\"\")\n",
    "print (\"Correctness, Time, Space is the three important characteristics it helps you to be more efficient storing data and also you create program that will run fatly. Data structure and Algorithms has the same application the search, sort, insert, update, delete. We all know that search is to search item in data structure also inn sort is to sort items in data structure, update is to update item in data structure, insert is to insert item data structure and delete is to delete existing item in data structure.\")\n",
    "print (\"In this lesson you can find ways to accomplish task and it can develop your critical thinking, create learning about programs that you can adapt in daily living.\")"
   ]
  },
  {
   "cell_type": "code",
   "execution_count": 3,
   "id": "promising-listing",
   "metadata": {},
   "outputs": [
    {
     "name": "stdout",
     "output_type": "stream",
     "text": [
      "Discuss your learnings on Chapter 1 time-frame 35:00 - end.\n",
      "\n",
      "Correctness, Time, Space is the three important characteristics it helps you to be more efficient storing data and also you create program that will run fastly. Data structure and Algorithms has the same application the search, sort, insert, update, delete. We all know that search is to search item in data structure also inn sort is to sort items in data structure, update is to update item in data structure, insert is to insert item data structure and delete is to delete existing item in data structure.\n",
      "In this lesson you can find ways to accomplish task and it can develop your critical thinking, create learning about programs that you can adapt in daily living.\n"
     ]
    }
   ],
   "source": [
    "print (\"Discuss your learnings on Chapter 1 time-frame 35:00 - end.\")\n",
    "print (\"\")\n",
    "print (\"Correctness, Time, Space is the three important characteristics it helps you to be more efficient storing data and also you create program that will run fastly. Data structure and Algorithms has the same application the search, sort, insert, update, delete. We all know that search is to search item in data structure also inn sort is to sort items in data structure, update is to update item in data structure, insert is to insert item data structure and delete is to delete existing item in data structure.\")\n",
    "print (\"In this lesson you can find ways to accomplish task and it can develop your critical thinking, create learning about programs that you can adapt in daily living.\")"
   ]
  },
  {
   "cell_type": "code",
   "execution_count": 4,
   "id": "distinct-universal",
   "metadata": {},
   "outputs": [
    {
     "name": "stdout",
     "output_type": "stream",
     "text": [
      "Discuss your learnings on Chapter 2 time-frame 5:00 - 9:00.\n",
      "\n",
      "In this video lesson for chapter 2 Data Structure Basic Concepts that DATA has two types the Built-in and Derived Data Type. A built-in data type is to support in language is built-in, built-in data type has four most language provides in built-in data type these are Integers, Boolean, Floating, Character and Strings. A built-in you will use it of any program and also will put a value, you will choose any language you want.\n",
      "A derived data type is to implement it one or other way. List, Array, Stack, Queue these is connected to derived data type. The data processed by certain operations that related to data structure. Also, i learned what are the basic operations of data which are Traverse, Searching, Insertion, Deletions, Sorting and Merging. These six basic operations is important when do programming because it can be easily execute or run program properly.\n",
      "\n",
      "In this lesson i gain more knowledge that data and data structure is connected to each other. Also learn that implementing and do program is need appropriate way to easier to access to work.\n"
     ]
    }
   ],
   "source": [
    "print (\"Discuss your learnings on Chapter 2 time-frame 5:00 - 9:00.\")\n",
    "print (\"\")\n",
    "print (\"In this video lesson for chapter 2 Data Structure Basic Concepts that DATA has two types the Built-in and Derived Data Type. A built-in data type is to support in language is built-in, built-in data type has four most language provides in built-in data type these are Integers, Boolean, Floating, Character and Strings. A built-in you will use it of any program and also will put a value, you will choose any language you want.\")\n",
    "print (\"A derived data type is to implement it one or other way. List, Array, Stack, Queue these is connected to derived data type. The data processed by certain operations that related to data structure. Also, i learned what are the basic operations of data which are Traverse, Searching, Insertion, Deletions, Sorting and Merging. These six basic operations is important when do programming because it can be easily execute or run program properly.\")\n",
    "print (\"\")\n",
    "print (\"In this lesson i gain more knowledge that data and data structure is connected to each other. Also learn that implementing and do program is need appropriate way to easier to access to work.\")"
   ]
  },
  {
   "cell_type": "code",
   "execution_count": 5,
   "id": "cheap-idaho",
   "metadata": {},
   "outputs": [
    {
     "name": "stdout",
     "output_type": "stream",
     "text": [
      "Discuss your learnings on Chapter 3 time-frame 3:00 - 18:00. \n",
      "\n",
      "In this chapter, the whole video Talks about array, its definition, presentation and basic operation. It thought me that array can hold a fix number of items and these items should be same type. Array use data structure to implement their algorithms. Array also has two terms to understand the concept of array which are element and Index. Element is item stored in array and Index location of an element in an array has numerical index. Array is important it organize the data so that the set of values can be easily to searched or sort also array is important to collect the elements. Array length is 10 which can store 10 elements and index of array is starts with zero.\n",
      "\n",
      "Data has basic operation also array has a basic operation these are Traverse is to print all the array elements one by one, Insertion is to add elements in given index, Deletion is to delete and element, Search is to search a element in given index and lastly Update is to update an elements. Type codes are the codes are used to define the type of value the array will hold some common.\n",
      "\n",
      "In the video lesson there are 7 common type codes which are b,B,c,i,I,f and d. The small b represents signed of size 1-byte, big letter B represents unsigned integer 0, c represents character of size 1 byte, i represents signed integer of size 2 bytes, I represent unsigned integer of size 2 bytes, f represents floating point of size 4 bytes, d represent floating point of size 8 bytes.\n",
      "Array is important because it store multiple values in a single that can be easily arrange or collect\n"
     ]
    }
   ],
   "source": [
    "print (\"Discuss your learnings on Chapter 3 time-frame 3:00 - 18:00. \")\n",
    "print (\"\")\n",
    "print (\"In this chapter, the whole video Talks about array, its definition, presentation and basic operation. It thought me that array can hold a fix number of items and these items should be same type. Array use data structure to implement their algorithms. Array also has two terms to understand the concept of array which are element and Index. Element is item stored in array and Index location of an element in an array has numerical index. Array is important it organize the data so that the set of values can be easily to searched or sort also array is important to collect the elements. Array length is 10 which can store 10 elements and index of array is starts with zero.\")\n",
    "print (\"\")\n",
    "print (\"Data has basic operation also array has a basic operation these are Traverse is to print all the array elements one by one, Insertion is to add elements in given index, Deletion is to delete and element, Search is to search a element in given index and lastly Update is to update an elements. Type codes are the codes are used to define the type of value the array will hold some common.\")\n",
    "print (\"\")\n",
    "print (\"In the video lesson there are 7 common type codes which are b,B,c,i,I,f and d. The small b represents signed of size 1-byte, big letter B represents unsigned integer 0, c represents character of size 1 byte, i represents signed integer of size 2 bytes, I represent unsigned integer of size 2 bytes, f represents floating point of size 4 bytes, d represent floating point of size 8 bytes.\")\n",
    "print (\"Array is important because it store multiple values in a single that can be easily arrange or collect\")"
   ]
  },
  {
   "cell_type": "code",
   "execution_count": 6,
   "id": "endless-phase",
   "metadata": {},
   "outputs": [
    {
     "name": "stdout",
     "output_type": "stream",
     "text": [
      "100\n",
      "100\n",
      "300\n",
      "600\n",
      "500\n"
     ]
    }
   ],
   "source": [
    "from array import*\n",
    "arrayAugustin =array('I',[100,200,300,400,500])\n",
    "arrayAugustin.insert(3,600)\n",
    "arrayAugustin.remove(400)\n",
    "arrayAugustin [1] = 100\n",
    "for x in arrayAugustin:\n",
    "    print(x)\n"
   ]
  },
  {
   "cell_type": "code",
   "execution_count": null,
   "id": "intense-commons",
   "metadata": {},
   "outputs": [],
   "source": []
  }
 ],
 "metadata": {
  "kernelspec": {
   "display_name": "Python 3",
   "language": "python",
   "name": "python3"
  },
  "language_info": {
   "codemirror_mode": {
    "name": "ipython",
    "version": 3
   },
   "file_extension": ".py",
   "mimetype": "text/x-python",
   "name": "python",
   "nbconvert_exporter": "python",
   "pygments_lexer": "ipython3",
   "version": "3.9.2"
  }
 },
 "nbformat": 4,
 "nbformat_minor": 5
}
